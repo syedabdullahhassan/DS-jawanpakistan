{
 "cells": [
  {
   "cell_type": "code",
   "execution_count": 42,
   "metadata": {},
   "outputs": [
    {
     "name": "stdout",
     "output_type": "stream",
     "text": [
      "Twinkle, twinkle, little star,\n",
      "\t How I wonder what you are!\n",
      "\t\t Up above the world so high\n",
      "\t\t Like a diamond in the sky.\n",
      " Twinkle, twinkle, little star,\n",
      "\t How I wonder what you are \n"
     ]
    }
   ],
   "source": [
    "#Ans1\n",
    "a=\"Twinkle, twinkle, little star,\\n\\t How I wonder what you are!\\n\\t\\t Up above the world so high\\n\\t\\t Like a diamond in the sky.\\n Twinkle, twinkle, little star,\\n\\t How I wonder what you are \"\n",
    "print(a)"
   ]
  },
  {
   "cell_type": "code",
   "execution_count": 34,
   "metadata": {},
   "outputs": [
    {
     "data": {
      "text/plain": [
       "'3.8.5'"
      ]
     },
     "execution_count": 34,
     "metadata": {},
     "output_type": "execute_result"
    }
   ],
   "source": [
    "#Ans2\n",
    "from platform import python_version\n",
    "python_version()\n"
   ]
  },
  {
   "cell_type": "code",
   "execution_count": 4,
   "metadata": {},
   "outputs": [
    {
     "name": "stdout",
     "output_type": "stream",
     "text": [
      "31-12-21 12:21:10\n"
     ]
    }
   ],
   "source": [
    "#Ans3\n",
    "from datetime import datetime\n",
    "now = datetime.now()\n",
    "print(now.strftime(\"%d-%m-%y %H:%M:%S\"))"
   ]
  },
  {
   "cell_type": "code",
   "execution_count": 5,
   "metadata": {},
   "outputs": [
    {
     "name": "stdout",
     "output_type": "stream",
     "text": [
      "Today's Date 2021-12-31\n"
     ]
    }
   ],
   "source": [
    "\n",
    "from datetime import date\n",
    "today=date.today()\n",
    "print(\"Today's Date\",today)"
   ]
  },
  {
   "cell_type": "code",
   "execution_count": 16,
   "metadata": {},
   "outputs": [
    {
     "name": "stdout",
     "output_type": "stream",
     "text": [
      "Enter the Radius:12\n",
      "452.16\n"
     ]
    }
   ],
   "source": [
    "#Ans4\n",
    "Radius=float(input(\"Enter the Radius:\"))\n",
    "Pie=3.14\n",
    "Area = Radius**2 *Pie\n",
    "print(Area)"
   ]
  },
  {
   "cell_type": "code",
   "execution_count": 18,
   "metadata": {},
   "outputs": [
    {
     "name": "stdout",
     "output_type": "stream",
     "text": [
      "enter First Name:Syed Abdillah\n",
      "enter Last Name:Hasan\n",
      "Print in Reverse Order: Hasan  Syed Abdillah\n"
     ]
    }
   ],
   "source": [
    "#Ans5\n",
    "First_Name=input(\"enter First Name:\")\n",
    "Last_Name=input(\"enter Last Name:\")\n",
    "print(\"Print in Reverse Order:\", format(Last_Name)+\"  \"+format(First_Name))"
   ]
  },
  {
   "cell_type": "code",
   "execution_count": 21,
   "metadata": {},
   "outputs": [
    {
     "name": "stdout",
     "output_type": "stream",
     "text": [
      "Enter First No:12\n",
      "Enter Second No:27\n",
      "39\n"
     ]
    }
   ],
   "source": [
    "##Ans6\n",
    "a=int(input(\"Enter First No:\"))\n",
    "b=int(input(\"Enter Second No:\"))\n",
    "z=a+b\n",
    "print(z)\n"
   ]
  },
  {
   "cell_type": "code",
   "execution_count": null,
   "metadata": {},
   "outputs": [],
   "source": []
  }
 ],
 "metadata": {
  "kernelspec": {
   "display_name": "Python 3",
   "language": "python",
   "name": "python3"
  },
  "language_info": {
   "codemirror_mode": {
    "name": "ipython",
    "version": 3
   },
   "file_extension": ".py",
   "mimetype": "text/x-python",
   "name": "python",
   "nbconvert_exporter": "python",
   "pygments_lexer": "ipython3",
   "version": "3.8.5"
  }
 },
 "nbformat": 4,
 "nbformat_minor": 4
}
